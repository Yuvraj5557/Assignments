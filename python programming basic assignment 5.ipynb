{
 "cells": [
  {
   "cell_type": "code",
   "execution_count": 3,
   "metadata": {},
   "outputs": [
    {
     "name": "stdout",
     "output_type": "stream",
     "text": [
      "The L.C.M. is :  8\n"
     ]
    }
   ],
   "source": [
    "# Ques 1:- Write a Python Program to Find LCM?\n",
    "\n",
    "def find_lcm(x, y):\n",
    "    if x > y:\n",
    "        greater = x\n",
    "    else:\n",
    "        greater = y\n",
    "    while(True):\n",
    "        if((greater % x == 0) and (greater % y == 0)):\n",
    "            lcm = greater\n",
    "            break\n",
    "        greater += 1\n",
    "\n",
    "    return lcm\n",
    "\n",
    "num1 = 4\n",
    "num2 = 8\n",
    "\n",
    "print(\"The L.C.M. is : \", find_lcm(num1, num2))"
   ]
  },
  {
   "cell_type": "code",
   "execution_count": 6,
   "metadata": {},
   "outputs": [
    {
     "name": "stdout",
     "output_type": "stream",
     "text": [
      "The H.C.F. is :  1\n"
     ]
    }
   ],
   "source": [
    "# Ques 2:- Write a Python Program to Find HCF?\n",
    "\n",
    "def find_hcf(x, y):\n",
    "    if x > y:\n",
    "        smaller = y\n",
    "    else:\n",
    "        smaller = x\n",
    "    for i in range(1, smaller+1):\n",
    "        if((x % i == 0) and (y % i == 0)):\n",
    "            hcf = i \n",
    "    return hcf\n",
    "\n",
    "num1 = 11 \n",
    "num2 = 4\n",
    "\n",
    "print(\"The H.C.F. is : \", find_hcf(num1, num2))"
   ]
  },
  {
   "cell_type": "code",
   "execution_count": 8,
   "metadata": {},
   "outputs": [
    {
     "name": "stdout",
     "output_type": "stream",
     "text": [
      "344  in Binary :  0b101011000\n",
      "344 in Octal :  0o530\n",
      "344  in Hexadecimal :  0x158\n"
     ]
    }
   ],
   "source": [
    "# Ques 3:- Write a Python Program to Convert Decimal to Binary, Octal and Hexadecimal?\n",
    "\n",
    "def decimal_to_binary(dec):\n",
    "    decimal = int(dec)\n",
    "    print(decimal, \" in Binary : \", bin(decimal))\n",
    "def decimal_to_octal(dec):\n",
    "    decimal = int(dec)\n",
    "    print(decimal, \"in Octal : \", oct(decimal))\n",
    "def decimal_to_hexadecimal(dec):\n",
    "    decimal = int(dec)\n",
    "    print(decimal, \" in Hexadecimal : \", hex(decimal))\n",
    "dec = 344\n",
    "decimal_to_binary(dec)\n",
    "decimal_to_octal(dec)\n",
    "decimal_to_hexadecimal(dec)"
   ]
  },
  {
   "cell_type": "code",
   "execution_count": 11,
   "metadata": {},
   "outputs": [
    {
     "name": "stdout",
     "output_type": "stream",
     "text": [
      "Enter the character : A\n",
      "The ASCII value of 'A' is 65\n"
     ]
    }
   ],
   "source": [
    "# Ques 4:-Write a Python Program To Find ASCII value of a character?\n",
    "\n",
    "c = input(\"Enter the character : \")\n",
    "print(\"The ASCII value of '\" + c + \"' is\", ord(c))"
   ]
  },
  {
   "cell_type": "code",
   "execution_count": 12,
   "metadata": {},
   "outputs": [
    {
     "name": "stdout",
     "output_type": "stream",
     "text": [
      "Please select operation -\n",
      " Press '+' for Addition \n",
      " Press '-' for Subtraction\n",
      " Press '*' for Multiplication\n",
      " Press '/' for Division\n",
      "\n",
      "Select operations from +,-,*,/   :  +\n",
      "You have chose addition('+') operation\n",
      "Enter the number of elements you want to add:4\n",
      "enter the 1 element:2\n",
      "enter the 2 element:3\n",
      "enter the 3 element:4\n",
      "enter the 4 element:5\n",
      "Addition is : 14\n"
     ]
    }
   ],
   "source": [
    "# Ques 5:- Write a Python Program to Make a Simple Calculator with 4 basic mathematical operations?\n",
    "\n",
    "def add(*args):\n",
    "    s=0\n",
    "    for i in args:\n",
    "        s=s+i\n",
    "    return s\n",
    "def subtract(x, y):\n",
    "    return x - y\n",
    "def multiply(*args):\n",
    "    s=1\n",
    "    for i in args:\n",
    "        s=s*i\n",
    "    return s\n",
    "def divide(x, y):\n",
    "    return x / y\n",
    "\n",
    "print(\"Please select operation -\\n\" \\\n",
    "        \" Press '+' for Addition \\n\" \\\n",
    "        \" Press '-' for Subtraction\\n\" \\\n",
    "        \" Press '*' for Multiplication\\n\" \\\n",
    "        \" Press '/' for Division\\n\")\n",
    "  \n",
    "select = input(\"Select operations from +,-,*,/   :  \")\n",
    "if select=='+':\n",
    "    print(\"You have chose addition('+') operation\")\n",
    "if select=='-':\n",
    "    print(\"You have chose subtraction('-') operation\")\n",
    "if select=='*':\n",
    "    print(\"You have chose multiplication('*') operation\")\n",
    "if select=='/':\n",
    "    print(\"You have chose division('/') operation\")\n",
    "    \n",
    "if select == '+':\n",
    "    n=int(input(\"Enter the number of elements you want to add:\"))\n",
    "    l=[]\n",
    "    for i in range(n):\n",
    "        z=int(input(\"enter the {} element:\".format(i+1)))\n",
    "        l.append(z)\n",
    "    a=0\n",
    "    for j in l:\n",
    "        a=a+j      \n",
    "    print(\"Addition is :\",add(a))\n",
    "\n",
    "elif select=='-':\n",
    "    n1=int(input(\"Enter the 1st number: \"))\n",
    "    n2=int(input(\"Enter the 2nd number: \"))\n",
    "    print(\"Subtraction is : \",subtract(n1,n2))\n",
    "                       \n",
    "elif select == '*':\n",
    "    n=int(input(\"Enter the number of elements you want to multiply:\"))\n",
    "    l=[]\n",
    "    for i in range(n):\n",
    "        z=int(input(\"enter the {} element:\".format(i+1)))\n",
    "        l.append(z)\n",
    "    a=1\n",
    "    for j in l:\n",
    "        a=a*j     \n",
    "    print(\"Multiplication is : \",multiply(a)) \n",
    "elif select=='/':\n",
    "    n1=int(input(\"Enter the 1st number: \"))\n",
    "    n2=int(input(\"Enter the 2nd number: \"))\n",
    "    print(\"Division is : \",divide(n1,n2))   \n",
    "else:\n",
    "    print(\"Invalid input\")"
   ]
  },
  {
   "cell_type": "code",
   "execution_count": null,
   "metadata": {},
   "outputs": [],
   "source": []
  }
 ],
 "metadata": {
  "kernelspec": {
   "display_name": "Python 3",
   "language": "python",
   "name": "python3"
  },
  "language_info": {
   "codemirror_mode": {
    "name": "ipython",
    "version": 3
   },
   "file_extension": ".py",
   "mimetype": "text/x-python",
   "name": "python",
   "nbconvert_exporter": "python",
   "pygments_lexer": "ipython3",
   "version": "3.7.6"
  }
 },
 "nbformat": 4,
 "nbformat_minor": 4
}
