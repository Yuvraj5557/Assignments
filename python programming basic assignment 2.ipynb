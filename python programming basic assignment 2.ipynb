{
 "cells": [
  {
   "cell_type": "code",
   "execution_count": 3,
   "metadata": {},
   "outputs": [
    {
     "name": "stdout",
     "output_type": "stream",
     "text": [
      "enter the distance in km: 2\n",
      "2 km = 1.242742 miles\n"
     ]
    }
   ],
   "source": [
    "# Write a Python program to convert kilometers to miles?\n",
    "distance_in_km =int(input(\"enter the distance in km: \"))\n",
    "distance_in_miles=0.621371*distance_in_km\n",
    "print(\"{} km = {} miles\".format(distance_in_km,distance_in_miles))"
   ]
  },
  {
   "cell_type": "code",
   "execution_count": 4,
   "metadata": {},
   "outputs": [
    {
     "name": "stdout",
     "output_type": "stream",
     "text": [
      "enter the temperature in celcius : 30\n",
      "30 degree celcius = 86.0 fahrenheit\n"
     ]
    }
   ],
   "source": [
    "# Write a Python program to convert Celsius to Fahrenheit?\n",
    "temperature_in_celcius=int(input(\"enter the temperature in celcius : \"))\n",
    "temperature_in_fahrenheit=(temperature_in_celcius*1.8)+32\n",
    "print(\"{} degree celcius = {} fahrenheit\".format(temperature_in_celcius,temperature_in_fahrenheit))"
   ]
  },
  {
   "cell_type": "code",
   "execution_count": 2,
   "metadata": {},
   "outputs": [
    {
     "name": "stdout",
     "output_type": "stream",
     "text": [
      "Enter year: 2021\n",
      "Enter month number : 06\n",
      "     June 2021\n",
      "Mo Tu We Th Fr Sa Su\n",
      "    1  2  3  4  5  6\n",
      " 7  8  9 10 11 12 13\n",
      "14 15 16 17 18 19 20\n",
      "21 22 23 24 25 26 27\n",
      "28 29 30\n",
      "\n"
     ]
    }
   ],
   "source": [
    "# Write a Python program to display calendar?\n",
    "import calendar\n",
    "yy = int(input(\"Enter year: \"))\n",
    "mm = int(input(\"Enter month number : \"))\n",
    "print(calendar.month(yy, mm))"
   ]
  },
  {
   "cell_type": "code",
   "execution_count": 3,
   "metadata": {},
   "outputs": [
    {
     "name": "stdout",
     "output_type": "stream",
     "text": [
      "General form of Quadratic Equation : ax^2+b^x+c=0\n",
      "Enter coefficients a, b and c: \n",
      "Enter the value of a : 5\n",
      "Enter the value of b : 20\n",
      "Enter the value of c : 10\n",
      "There are 2 roots: -0.5857864376269049 and -3.414213562373095\n"
     ]
    }
   ],
   "source": [
    "# Write a Python program to solve quadratic equation?\n",
    "def quadratic_eqn(a,b,c):\n",
    "    r = b * b - 4 * a * c\n",
    "    if r > 0:\n",
    "        x1 = ((-b)+((r)**0.5))/(2*a)     \n",
    "        x2 = ((-b)-((r)**0.5))/(2*a)\n",
    "        print(\"There are 2 roots: {} and {}\".format(x1,x2))\n",
    "    elif r == 0:\n",
    "        x = (-b) / 2*a\n",
    "        print(\"There is one root: \", x)\n",
    "    else:\n",
    "        print(\"No roots, discriminant < 0\")\n",
    "print(\"General form of Quadratic Equation : ax^2+b^x+c=0\")\n",
    "print(\"Enter coefficients a, b and c: \")\n",
    "a=int(input(\"Enter the value of a : \"))\n",
    "b=int(input(\"Enter the value of b : \"))\n",
    "c=int(input(\"Enter the value of c : \"))\n",
    "quadratic_eqn(a,b,c)"
   ]
  },
  {
   "cell_type": "code",
   "execution_count": 4,
   "metadata": {},
   "outputs": [
    {
     "name": "stdout",
     "output_type": "stream",
     "text": [
      "enter the 1st number: 1\n",
      "enter the 2nd number: 2\n",
      "before swapping :  1 2\n",
      "After swapping :  2 1\n"
     ]
    }
   ],
   "source": [
    "# Write a Python program to swap two variables without temp variable?\n",
    "a=int(input(\"enter the 1st number: \"))\n",
    "b=int(input(\"enter the 2nd number: \"))\n",
    "print(\"before swapping : \",a,b)\n",
    "a=a+b\n",
    "b=a-b\n",
    "a=a-b\n",
    "print(\"After swapping : \",a,b)"
   ]
  },
  {
   "cell_type": "code",
   "execution_count": null,
   "metadata": {},
   "outputs": [],
   "source": []
  }
 ],
 "metadata": {
  "kernelspec": {
   "display_name": "Python 3",
   "language": "python",
   "name": "python3"
  },
  "language_info": {
   "codemirror_mode": {
    "name": "ipython",
    "version": 3
   },
   "file_extension": ".py",
   "mimetype": "text/x-python",
   "name": "python",
   "nbconvert_exporter": "python",
   "pygments_lexer": "ipython3",
   "version": "3.7.6"
  }
 },
 "nbformat": 4,
 "nbformat_minor": 4
}
