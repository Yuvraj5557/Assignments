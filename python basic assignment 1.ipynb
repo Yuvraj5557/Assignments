{
 "cells": [
  {
   "cell_type": "code",
   "execution_count": 47,
   "metadata": {},
   "outputs": [
    {
     "name": "stdout",
     "output_type": "stream",
     "text": [
      "Hello python\n"
     ]
    }
   ],
   "source": [
    "#Write a Python program to print \"Hello python\"?\n",
    "print(\"Hello python\")"
   ]
  },
  {
   "cell_type": "code",
   "execution_count": 51,
   "metadata": {},
   "outputs": [
    {
     "name": "stdout",
     "output_type": "stream",
     "text": [
      "enter the 1st number : 1\n",
      "enter the 2nd number : 0\n",
      "sum is 1\n",
      "not possible\n"
     ]
    }
   ],
   "source": [
    "#Write a Python program to do arithmetical operations addition and division.?\n",
    "def test(n1,n2):\n",
    "    add=n1+n2\n",
    "    print(\"sum is\",add)\n",
    "    if(n2<=0):\n",
    "        print(\"not possible\")\n",
    "    else:\n",
    "        division=n1/n2\n",
    "        print(\"division is:\",division)\n",
    "n1=int(input(\"enter the 1st number : \"))\n",
    "n2=int(input(\"enter the 2nd number : \"))\n",
    "test(n1,n2)"
   ]
  },
  {
   "cell_type": "code",
   "execution_count": 49,
   "metadata": {},
   "outputs": [
    {
     "name": "stdout",
     "output_type": "stream",
     "text": [
      "enter the 1st number : 2\n",
      "enter the 2nd number : 3\n",
      "enter the 3rd number : 4\n",
      "2.9047375096555625\n"
     ]
    }
   ],
   "source": [
    "#Write a Python program to find the area of a triangle?\n",
    "n1=int(input(\"enter the 1st number : \"))\n",
    "n2=int(input(\"enter the 2nd number : \"))\n",
    "n3=int(input(\"enter the 3rd number : \"))\n",
    "s=(n1+n2+n3)/2\n",
    "area=(s*(s-n1)*(s-n2)*(s-n3))**0.5\n",
    "print(area)"
   ]
  },
  {
   "cell_type": "code",
   "execution_count": 43,
   "metadata": {},
   "outputs": [
    {
     "name": "stdout",
     "output_type": "stream",
     "text": [
      "enter the 1st number : 1\n",
      "enter the 2nd number : 2\n",
      "before swapping:1,2\n",
      "after swapping:2,1\n"
     ]
    }
   ],
   "source": [
    "#Write a Python program to swap two variables? \n",
    "n1=int(input(\"enter the 1st number : \"))\n",
    "n2=int(input(\"enter the 2nd number : \"))\n",
    "print(\"before swapping:{},{}\".format(n1,n2))\n",
    "n1=n1+n2\n",
    "n2=n1-n2\n",
    "n1=n1-n2\n",
    "print(\"after swapping:{},{}\".format(n1,n2))"
   ]
  },
  {
   "cell_type": "code",
   "execution_count": 48,
   "metadata": {},
   "outputs": [
    {
     "name": "stdout",
     "output_type": "stream",
     "text": [
      "408\n"
     ]
    }
   ],
   "source": [
    "#Write a Python program to generate a random number?\n",
    "import random as rr\n",
    "rnumber=rr.randint(0,1000)\n",
    "print(rnumber)"
   ]
  },
  {
   "cell_type": "code",
   "execution_count": null,
   "metadata": {},
   "outputs": [],
   "source": []
  }
 ],
 "metadata": {
  "kernelspec": {
   "display_name": "Python 3",
   "language": "python",
   "name": "python3"
  },
  "language_info": {
   "codemirror_mode": {
    "name": "ipython",
    "version": 3
   },
   "file_extension": ".py",
   "mimetype": "text/x-python",
   "name": "python",
   "nbconvert_exporter": "python",
   "pygments_lexer": "ipython3",
   "version": "3.7.6"
  }
 },
 "nbformat": 4,
 "nbformat_minor": 4
}
